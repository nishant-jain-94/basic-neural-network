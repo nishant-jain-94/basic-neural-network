{
 "cells": [
  {
   "cell_type": "code",
   "execution_count": 1,
   "metadata": {
    "collapsed": true
   },
   "outputs": [],
   "source": [
    "import numpy as np"
   ]
  },
  {
   "cell_type": "code",
   "execution_count": 2,
   "metadata": {
    "collapsed": false
   },
   "outputs": [],
   "source": [
    "class Neural_Network(object):\n",
    "    def __init__(self):\n",
    "        # Define HyperParameters         \n",
    "        self.inputLayerSize = 2\n",
    "        self.outputLayerSize = 1\n",
    "        self.hiddenLayerSize = 3\n",
    "        # Weight Parameters         \n",
    "        self.W1 = np.random.randn(self.inputLayerSize, self.hiddenLayerSize)\n",
    "        self.W2 = np.random.randn(self.hiddenLayerSize, self.outputLayerSize)\n",
    "    \n",
    "    def forward(self, X):\n",
    "        self.z2 = np.dot(X, self.W1)\n",
    "        self.a2 = self.sigmoid(self.z2)\n",
    "        self.z3 = np.dot(self.a2, self.W2)\n",
    "        yHat = self.sigmoid(self.z3)\n",
    "        return yHat\n",
    "        \n",
    "    def sigmoid(self, z):\n",
    "        # Sigmoid Function\n",
    "        return 1/(1+np.exp(-z))\n",
    "    \n",
    "    def sigmoidPrime(self, z):\n",
    "        # Derivative of Sigmoid Function\n",
    "        return np.exp(-z)/((1+np.exp(-z))**2)\n",
    "    \n",
    "    def costFunction(self, X, y):\n",
    "        print(self.W1, self.W2)\n",
    "        self.yHat = self.forward(X)\n",
    "        return 0.5*sum((y-self.yHat) ** 2.)\n",
    "    \n",
    "    def costFunctionPrime(self, X, y):\n",
    "        # Compute Dervivative with respect to W1 and W1\n",
    "        self.yHat = self.forward(X)\n",
    "\n",
    "        delta3 = np.multiply(-(y-self.yHat), self.sigmoidPrime(self.z3))\n",
    "        dJdW2 = np.dot(self.a2.T, delta3)\n",
    "\n",
    "        delta2 = np.dot(delta3, self.W2.T) * self.sigmoidPrime(self.z2)\n",
    "        dJdW1 = np.dot(X.T, delta2)\n",
    "\n",
    "        return dJdW1, dJdW2\n",
    "    "
   ]
  },
  {
   "cell_type": "code",
   "execution_count": 3,
   "metadata": {
    "collapsed": false
   },
   "outputs": [
    {
     "name": "stdout",
     "output_type": "stream",
     "text": [
      "[[ 0.54941723]\n",
      " [ 0.58130387]\n",
      " [ 0.52699592]]\n"
     ]
    }
   ],
   "source": [
    "X = np.array([[3, 5],\n",
    "              [5, 1],\n",
    "              [10, 2]], dtype=float)\n",
    "y = np.array([[75], [82], [93]], dtype=float)\n",
    "\n",
    "X = X / np.amax(X, axis=0)\n",
    "y = y / np.amax(y)\n",
    "\n",
    "NN = Neural_Network()\n",
    "yHat = NN.forward(X)\n",
    "print(yHat)"
   ]
  },
  {
   "cell_type": "markdown",
   "metadata": {},
   "source": [
    "## Compute the minimal cost for one weight"
   ]
  },
  {
   "cell_type": "code",
   "execution_count": 4,
   "metadata": {
    "collapsed": false
   },
   "outputs": [],
   "source": [
    "# import matplotlib.pyplot as plt\n",
    "# plt.plot(weightsToTry, costs)\n",
    "# plt.ylabel('Cost')\n",
    "# plt.xlabel('Weight')\n",
    "# plt.grid(1)\n",
    "# plt.show()"
   ]
  },
  {
   "cell_type": "code",
   "execution_count": 5,
   "metadata": {
    "collapsed": true
   },
   "outputs": [],
   "source": [
    "NN = Neural_Network()"
   ]
  },
  {
   "cell_type": "code",
   "execution_count": 6,
   "metadata": {
    "collapsed": false
   },
   "outputs": [
    {
     "name": "stdout",
     "output_type": "stream",
     "text": [
      "[[-0.42306143  0.84865804 -0.93770322]\n",
      " [-0.57998232 -0.04542993 -0.24355367]] [[-0.05224446]\n",
      " [ 2.78420802]\n",
      " [-0.0326683 ]]\n"
     ]
    },
    {
     "data": {
      "text/plain": [
       "array([ 0.00931335])"
      ]
     },
     "execution_count": 6,
     "metadata": {},
     "output_type": "execute_result"
    }
   ],
   "source": [
    "cost1 = NN.costFunction(X, y)\n",
    "cost1"
   ]
  },
  {
   "cell_type": "code",
   "execution_count": 7,
   "metadata": {
    "collapsed": false
   },
   "outputs": [],
   "source": [
    "dJdW1, dJdW2 = NN.costFunctionPrime(X, y)"
   ]
  },
  {
   "cell_type": "code",
   "execution_count": 8,
   "metadata": {
    "collapsed": false
   },
   "outputs": [
    {
     "data": {
      "text/plain": [
       "(array([[  2.01082172e-04,  -1.00984574e-02,   1.09709742e-04],\n",
       "        [  6.19011340e-05,  -2.93531004e-03,   3.16492589e-05]]),\n",
       " array([[-0.00682065],\n",
       "        [-0.01262378],\n",
       "        [-0.00532431]]))"
      ]
     },
     "execution_count": 8,
     "metadata": {},
     "output_type": "execute_result"
    }
   ],
   "source": [
    "dJdW1, dJdW2"
   ]
  },
  {
   "cell_type": "code",
   "execution_count": 9,
   "metadata": {
    "collapsed": false
   },
   "outputs": [
    {
     "name": "stdout",
     "output_type": "stream",
     "text": [
      "[[-0.42245818  0.81836267 -0.93737409]\n",
      " [-0.57979662 -0.05423586 -0.24345872]] [[-0.07270639]\n",
      " [ 2.74633669]\n",
      " [-0.04864124]]\n",
      "[[-0.42245818  0.81836267 -0.93737409]\n",
      " [-0.57979662 -0.05423586 -0.24345872]] [[-0.07270639]\n",
      " [ 2.74633669]\n",
      " [-0.04864124]]\n"
     ]
    },
    {
     "data": {
      "text/plain": [
       "array([ 0.01043452])"
      ]
     },
     "execution_count": 9,
     "metadata": {},
     "output_type": "execute_result"
    }
   ],
   "source": [
    "# print(NN.W1, NN.W2)\n",
    "scalar = 3\n",
    "NN.W1 = NN.W1 + scalar*dJdW1\n",
    "NN.W2 = NN.W2 + scalar*dJdW2\n",
    "print(NN.W1, NN.W2)\n",
    "cost2 = NN.costFunction(X, y)\n",
    "cost2"
   ]
  },
  {
   "cell_type": "code",
   "execution_count": 10,
   "metadata": {
    "collapsed": false
   },
   "outputs": [
    {
     "name": "stdout",
     "output_type": "stream",
     "text": [
      "[ 0.00931335] [ 0.01043452]\n"
     ]
    }
   ],
   "source": [
    "print(cost1, cost2)"
   ]
  }
 ],
 "metadata": {
  "kernelspec": {
   "display_name": "Python 3",
   "language": "python",
   "name": "python3"
  },
  "language_info": {
   "codemirror_mode": {
    "name": "ipython",
    "version": 3
   },
   "file_extension": ".py",
   "mimetype": "text/x-python",
   "name": "python",
   "nbconvert_exporter": "python",
   "pygments_lexer": "ipython3",
   "version": "3.5.2"
  }
 },
 "nbformat": 4,
 "nbformat_minor": 2
}
